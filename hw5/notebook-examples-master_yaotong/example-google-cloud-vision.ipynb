{
 "cells": [
  {
   "cell_type": "markdown",
   "metadata": {},
   "source": [
    "# Google Cloud Vision Example\n",
    "\n",
    "First make sure you set up your google account with a [Cloud Vision Project](https://cloud.google.com/vision/docs/getting-started##set_up_your_project).  Then you need to enter billing details (to verify you are human) and set up credentials.  This will download a `.json` file.\n",
    "\n",
    "Before you work in this notebook, you have to do this to let python know about your [application default credentials](https://cloud.google.com/vision/docs/getting-started#adc).  So put the `.json` file in this folder (but do not commit it into git!).  Then `export GOOGLE_APPLICATION_CREDENTIALS=<path to your json file>`.\n",
    "\n",
    "This code is based on [Google's face detection tutorial](https://cloud.google.com/vision/docs/face-tutorial).\n",
    "\n",
    "## Requirements\n",
    "```\n",
    "google-api-python-client==1.5.0\n",
    "Pillow==3.1.1\n",
    "```"
   ]
  },
  {
   "cell_type": "code",
   "execution_count": 5,
   "metadata": {
    "collapsed": true
   },
   "outputs": [],
   "source": [
    "from googleapiclient import discovery\n",
    "import httplib2\n",
    "from oauth2client.client import GoogleCredentials\n",
    "import base64\n",
    "from PIL import Image\n",
    "from PIL import ImageDraw"
   ]
  },
  {
   "cell_type": "code",
   "execution_count": 6,
   "metadata": {
    "collapsed": true
   },
   "outputs": [],
   "source": [
    "# Set up a connection to the Google service\n",
    "DISCOVERY_URL='https://{api}.googleapis.com/$discovery/rest?version={apiVersion}'\n",
    "credentials = GoogleCredentials.get_application_default()\n",
    "service = discovery.build('vision', 'v1', credentials=credentials, discoveryServiceUrl=DISCOVERY_URL)"
   ]
  },
  {
   "cell_type": "code",
   "execution_count": 7,
   "metadata": {
    "collapsed": false
   },
   "outputs": [],
   "source": [
    "# load the input images\n",
    "input_filename = \"dalai-lama.jpg\"\n",
    "image = open(input_filename,'rb')\n",
    "image_content = image.read()"
   ]
  },
  {
   "cell_type": "code",
   "execution_count": 8,
   "metadata": {
    "collapsed": false
   },
   "outputs": [
    {
     "name": "stdout",
     "output_type": "stream",
     "text": [
      "Found 1 face\n"
     ]
    }
   ],
   "source": [
    "# fire off request for face detection from Google\n",
    "batch_request = [{\n",
    "    'image': {\n",
    "        'content': base64.b64encode(image_content)\n",
    "        },\n",
    "    'features': [{\n",
    "        'type': 'FACE_DETECTION',\n",
    "        'maxResults': 4,\n",
    "        }]\n",
    "    }]\n",
    "request = service.images().annotate(body={\n",
    "    'requests': batch_request,\n",
    "    })\n",
    "response = request.execute()\n",
    "print('Found %s face%s' % (len(response['responses']), '' if len(response['responses']) == 1 else 's'))"
   ]
  },
  {
   "cell_type": "code",
   "execution_count": 9,
   "metadata": {
    "collapsed": false
   },
   "outputs": [
    {
     "name": "stdout",
     "output_type": "stream",
     "text": [
      "joy: VERY_LIKELY\n",
      "sorrow: VERY_UNLIKELY\n",
      "surprise: VERY_UNLIKELY\n",
      "anger: VERY_UNLIKELY\n"
     ]
    }
   ],
   "source": [
    "#print response\n",
    "# print out emotions for each one\n",
    "for result in response['responses']:\n",
    "    for annotation in result['faceAnnotations']:\n",
    "        for emotion in ['joy','sorrow','surprise','anger']:\n",
    "            print \"%s: %s\" % (emotion, annotation[emotion+'Likelihood'])\n",
    "        "
   ]
  },
  {
   "cell_type": "code",
   "execution_count": null,
   "metadata": {
    "collapsed": true
   },
   "outputs": [],
   "source": []
  }
 ],
 "metadata": {
  "kernelspec": {
   "display_name": "Python 2",
   "language": "python",
   "name": "python2"
  },
  "language_info": {
   "codemirror_mode": {
    "name": "ipython",
    "version": 2
   },
   "file_extension": ".py",
   "mimetype": "text/x-python",
   "name": "python",
   "nbconvert_exporter": "python",
   "pygments_lexer": "ipython2",
   "version": "2.7.10"
  }
 },
 "nbformat": 4,
 "nbformat_minor": 0
}
