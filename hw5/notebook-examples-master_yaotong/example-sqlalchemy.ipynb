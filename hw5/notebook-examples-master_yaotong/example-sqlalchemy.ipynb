{
 "cells": [
  {
   "cell_type": "markdown",
   "metadata": {},
   "source": [
    "Using SQLAlchemy to Talk to a Database\n",
    "=====================\n",
    "SqlAlchemy helps you use a database to store and retrieve information from python.  It abstracts the specific storage engine from te way you use it - so it doesn't care if you end up using MySQL, SQLite, or whatever else. In addition, you can use core and the object-relational mapper (ORM) to avoid writing any SQL at all.  The [SQLAlchemy homepage](http://www.sqlalchemy.org/) has lots of good examples and full documentation."
   ]
  },
  {
   "cell_type": "code",
   "execution_count": 1,
   "metadata": {
    "collapsed": false
   },
   "outputs": [],
   "source": [
    "from sqlalchemy import *\n",
    "import datetime\n",
    "import mediacloud\n",
    "MyList = ['Clinton','Trump','robot','kitten','happy']\n",
    "mc = mediacloud.api.MediaCloud('03c4af1a8327ec7ee8e305d3e52720a672feacee9894bc9136215d5a544b31ff')    "
   ]
  },
  {
   "cell_type": "markdown",
   "metadata": {},
   "source": [
    "## Basic SQL Generation\n",
    "The core library generates SQL for you.  Read more about it on their [expression language tutorial page](http://docs.sqlalchemy.org/en/rel_1_0/core/index.html). Below are some basic examples."
   ]
  },
  {
   "cell_type": "markdown",
   "metadata": {},
   "source": [
    "### Creating a Table\n",
    "Read more about [defining and creating tables](http://docs.sqlalchemy.org/en/rel_1_0/core/tutorial.html#define-and-create-tables)."
   ]
  },
  {
   "cell_type": "code",
   "execution_count": 2,
   "metadata": {
    "collapsed": false
   },
   "outputs": [
    {
     "name": "stdout",
     "output_type": "stream",
     "text": [
      "2016-12-03 00:37:59,755 INFO sqlalchemy.engine.base.Engine SELECT CAST('test plain returns' AS VARCHAR(60)) AS anon_1\n",
      "2016-12-03 00:37:59,759 INFO sqlalchemy.engine.base.Engine ()\n",
      "2016-12-03 00:37:59,763 INFO sqlalchemy.engine.base.Engine SELECT CAST('test unicode returns' AS VARCHAR(60)) AS anon_1\n",
      "2016-12-03 00:37:59,771 INFO sqlalchemy.engine.base.Engine ()\n",
      "2016-12-03 00:37:59,775 INFO sqlalchemy.engine.base.Engine PRAGMA table_info(\"queries\")\n",
      "2016-12-03 00:37:59,787 INFO sqlalchemy.engine.base.Engine ()\n",
      "2016-12-03 00:37:59,795 INFO sqlalchemy.engine.base.Engine \n",
      "CREATE TABLE queries (\n",
      "\tid INTEGER NOT NULL, \n",
      "\tkeywords VARCHAR(400) NOT NULL, \n",
      "\tcount INTEGER, \n",
      "\ttimestamp DATETIME, \n",
      "\tPRIMARY KEY (id)\n",
      ")\n",
      "\n",
      "\n",
      "2016-12-03 00:37:59,860 INFO sqlalchemy.engine.base.Engine ()\n",
      "2016-12-03 00:37:59,864 INFO sqlalchemy.engine.base.Engine COMMIT\n"
     ]
    }
   ],
   "source": [
    "# add `echo=True` to see log statements of all the SQL that is generated\n",
    "engine = create_engine('sqlite:///:memory:',echo=True) # just save the db in memory for now (ie. not on disk)\n",
    "metadata = MetaData()\n",
    "# define a table to use\n",
    "queries = Table('queries', metadata,\n",
    "    Column('id', Integer, primary_key=True),\n",
    "    Column('keywords', String(400), nullable=False),\n",
    "    Column('count',Integer),\n",
    "    Column('timestamp', DateTime, default=datetime.datetime.now),\n",
    ")\n",
    "metadata.create_all(engine) # and create the tables in the database"
   ]
  },
  {
   "cell_type": "markdown",
   "metadata": {},
   "source": [
    "### Inserting Data\n",
    "Read more about generating [SQL insert statements](http://docs.sqlalchemy.org/en/rel_1_0/core/tutorial.html#insert-expressions)."
   ]
  },
  {
   "cell_type": "code",
   "execution_count": 3,
   "metadata": {
    "collapsed": false
   },
   "outputs": [],
   "source": [
    "#insert_stmt = queries.insert()\n",
    "#str(insert_stmt) # see an example of what this will do"
   ]
  },
  {
   "cell_type": "code",
   "execution_count": 4,
   "metadata": {
    "collapsed": false
   },
   "outputs": [
    {
     "name": "stdout",
     "output_type": "stream",
     "text": [
      "2016-12-03 00:38:01,756 INFO sqlalchemy.engine.base.Engine INSERT INTO queries (keywords, count, timestamp) VALUES (?, ?, ?)\n",
      "2016-12-03 00:38:01,765 INFO sqlalchemy.engine.base.Engine ('Clinton', 133808, '2016-12-03 00:38:01.755906')\n",
      "2016-12-03 00:38:01,781 INFO sqlalchemy.engine.base.Engine COMMIT\n",
      "2016-12-03 00:38:02,673 INFO sqlalchemy.engine.base.Engine INSERT INTO queries (keywords, count, timestamp) VALUES (?, ?, ?)\n",
      "2016-12-03 00:38:02,677 INFO sqlalchemy.engine.base.Engine ('Trump', 198155, '2016-12-03 00:38:02.673549')\n",
      "2016-12-03 00:38:02,681 INFO sqlalchemy.engine.base.Engine COMMIT\n",
      "2016-12-03 00:38:03,389 INFO sqlalchemy.engine.base.Engine INSERT INTO queries (keywords, count, timestamp) VALUES (?, ?, ?)\n",
      "2016-12-03 00:38:03,389 INFO sqlalchemy.engine.base.Engine ('robot', 3196, '2016-12-03 00:38:03.389383')\n",
      "2016-12-03 00:38:03,389 INFO sqlalchemy.engine.base.Engine COMMIT\n",
      "2016-12-03 00:38:04,205 INFO sqlalchemy.engine.base.Engine INSERT INTO queries (keywords, count, timestamp) VALUES (?, ?, ?)\n",
      "2016-12-03 00:38:04,214 INFO sqlalchemy.engine.base.Engine ('kitten', 296, '2016-12-03 00:38:04.205735')\n",
      "2016-12-03 00:38:04,218 INFO sqlalchemy.engine.base.Engine COMMIT\n",
      "2016-12-03 00:38:05,232 INFO sqlalchemy.engine.base.Engine INSERT INTO queries (keywords, count, timestamp) VALUES (?, ?, ?)\n",
      "2016-12-03 00:38:05,240 INFO sqlalchemy.engine.base.Engine ('happy', 18872, '2016-12-03 00:38:05.232473')\n",
      "2016-12-03 00:38:05,246 INFO sqlalchemy.engine.base.Engine COMMIT\n"
     ]
    }
   ],
   "source": [
    "for item in MyList:\n",
    "    res = mc.sentenceCount(item, solr_filter=[mc.publish_date_query( datetime.date( 2016, 9, 1), datetime.date( 2016, 9, 30) ), 'tags_id_media:1' ])\n",
    "    r = res['count']\n",
    "    insert_stmt = queries.insert().values(keywords= item, count = r)\n",
    "    db_conn = engine.connect()\n",
    "    result = db_conn.execute(insert_stmt)\n",
    "    result.inserted_primary_key # print out the primary key it was assigned\n",
    "    #str(insert_stmt)"
   ]
  },
  {
   "cell_type": "code",
   "execution_count": 5,
   "metadata": {
    "collapsed": false
   },
   "outputs": [],
   "source": [
    "#insert_stmt = queries.insert().values(keywords=\"kittens\")\n",
    "#result = db_conn.execute(insert_stmt)\n",
    "#result.inserted_primary_key # print out the primary key it was assigned"
   ]
  },
  {
   "cell_type": "markdown",
   "metadata": {},
   "source": [
    "### Retrieving Data\n",
    "Read more about using [SQL select statments](http://docs.sqlalchemy.org/en/rel_1_0/core/tutorial.html#selecting)."
   ]
  },
  {
   "cell_type": "code",
   "execution_count": 6,
   "metadata": {
    "collapsed": false
   },
   "outputs": [
    {
     "name": "stdout",
     "output_type": "stream",
     "text": [
      "2016-12-03 00:38:05,280 INFO sqlalchemy.engine.base.Engine SELECT queries.id, queries.keywords, queries.count, queries.timestamp \n",
      "FROM queries\n",
      "2016-12-03 00:38:05,288 INFO sqlalchemy.engine.base.Engine ()\n",
      "Total count: 354327\n"
     ]
    }
   ],
   "source": [
    "from sqlalchemy.sql import select\n",
    "select_stmt = select([queries])\n",
    "results = db_conn.execute(select_stmt)\n",
    "sum = 0\n",
    "for row in results:\n",
    "    sum  = sum + row[2]\n",
    "print \"Total count:\"\n",
    "print sum"
   ]
  },
  {
   "cell_type": "code",
   "execution_count": 7,
   "metadata": {
    "collapsed": false
   },
   "outputs": [],
   "source": [
    "#select_stmt = select([queries]).where(queries.c.id==1)\n",
    "#for row in db_conn.execute(select_stmt):\n",
    "    #print(row)"
   ]
  },
  {
   "cell_type": "code",
   "execution_count": 8,
   "metadata": {
    "collapsed": false
   },
   "outputs": [],
   "source": [
    "#select_stmt = select([queries]).where(queries.c.keywords.like('p%'))\n",
    "#for row in db_conn.execute(select_stmt):\n",
    "    #print(row)"
   ]
  },
  {
   "cell_type": "markdown",
   "metadata": {},
   "source": [
    "## ORM\n",
    "You can use their ORM library to handle the translation into full-fledged python objects.  This can help you build the Model for you [MVC](https://en.wikipedia.org/wiki/Model–view–controller) solution."
   ]
  },
  {
   "cell_type": "code",
   "execution_count": 9,
   "metadata": {
    "collapsed": false
   },
   "outputs": [],
   "source": [
    "#import datetime\n",
    "#from sqlalchemy import *\n",
    "#from sqlalchemy.ext.declarative import declarative_base\n"
   ]
  },
  {
   "cell_type": "markdown",
   "metadata": {},
   "source": [
    "### Creating a class mapping\n",
    "Read more about [creating a mapping](http://docs.sqlalchemy.org/en/rel_1_0/orm/tutorial.html#declare-a-mapping)."
   ]
  },
  {
   "cell_type": "code",
   "execution_count": 10,
   "metadata": {
    "collapsed": false
   },
   "outputs": [],
   "source": [
    "# class Query(Base):\n",
    "#     __tablename__ = 'queries'\n",
    "#     id = Column(Integer, primary_key=True)\n",
    "#     keywords = Column(String(400))\n",
    "#     timestamp = Column(DateTime,default=datetime.datetime.now)\n",
    "#     def __repr__(self):\n",
    "#         return \"<Query(keywords='%s')>\" % (self.keywords)\n",
    "# Query.__table__"
   ]
  },
  {
   "cell_type": "markdown",
   "metadata": {},
   "source": [
    "### Creating a connection and session\n",
    "Read more about [creating this stuff](http://docs.sqlalchemy.org/en/rel_1_0/orm/tutorial.html#creating-a-session)."
   ]
  },
  {
   "cell_type": "code",
   "execution_count": 11,
   "metadata": {
    "collapsed": false
   },
   "outputs": [],
   "source": [
    "# engine = create_engine('sqlite:///:memory:') # just save the db in memory for now (ie. not on disk)\n",
    "# Base.metadata.create_all(engine)\n",
    "# Session = sessionmaker(bind=engine)\n",
    "# my_session = Session()"
   ]
  },
  {
   "cell_type": "markdown",
   "metadata": {},
   "source": [
    "### Inserting Data\n",
    "Read more about [inserting data with an ORM](http://docs.sqlalchemy.org/en/rel_1_0/orm/tutorial.html#adding-new-objects)."
   ]
  },
  {
   "cell_type": "code",
   "execution_count": 12,
   "metadata": {
    "collapsed": false
   },
   "outputs": [],
   "source": [
    "# query = Query(keywords=\"iguana\")\n",
    "# query.keywords"
   ]
  },
  {
   "cell_type": "code",
   "execution_count": 13,
   "metadata": {
    "collapsed": false
   },
   "outputs": [],
   "source": [
    "# my_session.add(query)\n",
    "# my_session.commit()\n",
    "# query.id"
   ]
  },
  {
   "cell_type": "markdown",
   "metadata": {},
   "source": [
    "### Retrieving Data\n",
    "Read more about [retrieving data from the db](http://docs.sqlalchemy.org/en/rel_1_0/orm/tutorial.html#querying) via an ORM class."
   ]
  },
  {
   "cell_type": "code",
   "execution_count": 14,
   "metadata": {
    "collapsed": false
   },
   "outputs": [],
   "source": [
    "#for q in my_session.query(Query).order_by(Query.timestamp):\n",
    "#    print(q)"
   ]
  },
  {
   "cell_type": "code",
   "execution_count": 15,
   "metadata": {
    "collapsed": true
   },
   "outputs": [],
   "source": [
    "#query1 = Query(keywords=\"robot\")\n",
    "#query2 = Query(keywords=\"puppy\")\n",
    "#my_session.add_all([query1,query2])\n",
    "#my_session.commit()"
   ]
  },
  {
   "cell_type": "code",
   "execution_count": 16,
   "metadata": {
    "collapsed": false
   },
   "outputs": [],
   "source": [
    "#for q in my_session.query(Query).order_by(Query.timestamp):\n",
    "#    print(q)"
   ]
  },
  {
   "cell_type": "code",
   "execution_count": 17,
   "metadata": {
    "collapsed": false
   },
   "outputs": [],
   "source": [
    "#for q in my_session.query(Query).filter(Query.keywords.like('r%')):\n",
    "#    print(q)"
   ]
  },
  {
   "cell_type": "code",
   "execution_count": null,
   "metadata": {
    "collapsed": true
   },
   "outputs": [],
   "source": []
  }
 ],
 "metadata": {
  "anaconda-cloud": {},
  "kernelspec": {
   "display_name": "Python [Root]",
   "language": "python",
   "name": "Python [Root]"
  },
  "language_info": {
   "codemirror_mode": {
    "name": "ipython",
    "version": 3
   },
   "file_extension": ".py",
   "mimetype": "text/x-python",
   "name": "python",
   "nbconvert_exporter": "python",
   "pygments_lexer": "ipython3",
   "version": "3.5.2"
  }
 },
 "nbformat": 4,
 "nbformat_minor": 0
}
